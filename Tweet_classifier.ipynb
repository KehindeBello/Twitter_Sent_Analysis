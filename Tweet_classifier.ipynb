{
 "cells": [
  {
   "cell_type": "markdown",
   "metadata": {},
   "source": [
    "## Model Building: \n",
    "* We will build a Logistic Regression Model pipeline to classify whether the tweet contains hate speech or not. Here, our focus will be to build a fairly accurate classification model and to see how to deploy that model using Flask\n"
   ]
  },
  {
   "cell_type": "code",
   "execution_count": 1,
   "metadata": {},
   "outputs": [],
   "source": [
    "import pandas as pd \n",
    "import numpy as np\n",
    "\n",
    "from sklearn.feature_extraction.text import ENGLISH_STOP_WORDS, TfidfVectorizer\n",
    "from sklearn.pipeline import Pipeline\n",
    "from sklearn.linear_model import LogisticRegression\n",
    "from sklearn.naive_bayes import MultinomialNB\n",
    "from sklearn.model_selection import train_test_split\n",
    "from sklearn.metrics import f1_score\n",
    "from nltk.stem import WordNetLemmatizer\n",
    "\n",
    "import re\n"
   ]
  },
  {
   "cell_type": "code",
   "execution_count": 2,
   "metadata": {},
   "outputs": [
    {
     "data": {
      "text/html": [
       "<div><div id=709ba191-17e7-4a3b-8af7-9b7750c4bad7 style=\"display:none; background-color:#9D6CFF; color:white; width:200px; height:30px; padding-left:5px; border-radius:4px; flex-direction:row; justify-content:space-around; align-items:center;\" onmouseover=\"this.style.backgroundColor='#BA9BF8'\" onmouseout=\"this.style.backgroundColor='#9D6CFF'\" onclick=\"window.commands?.execute('create-mitosheet-from-dataframe-output');\">See Full Dataframe in Mito</div> <script> if (window.commands.hasCommand('create-mitosheet-from-dataframe-output')) document.getElementById('709ba191-17e7-4a3b-8af7-9b7750c4bad7').style.display = 'flex' </script> <table border=\"1\" class=\"dataframe\">\n",
       "  <thead>\n",
       "    <tr style=\"text-align: right;\">\n",
       "      <th></th>\n",
       "      <th>id</th>\n",
       "      <th>label</th>\n",
       "      <th>tweet</th>\n",
       "    </tr>\n",
       "  </thead>\n",
       "  <tbody>\n",
       "    <tr>\n",
       "      <th>0</th>\n",
       "      <td>1</td>\n",
       "      <td>0</td>\n",
       "      <td>@user when a father is dysfunctional and is so selfish he drags his kids into his dysfunction.   #run</td>\n",
       "    </tr>\n",
       "    <tr>\n",
       "      <th>1</th>\n",
       "      <td>2</td>\n",
       "      <td>0</td>\n",
       "      <td>@user @user thanks for #lyft credit i can't use cause they don't offer wheelchair vans in pdx.    #disapointed #getthanked</td>\n",
       "    </tr>\n",
       "    <tr>\n",
       "      <th>2</th>\n",
       "      <td>3</td>\n",
       "      <td>0</td>\n",
       "      <td>bihday your majesty</td>\n",
       "    </tr>\n",
       "    <tr>\n",
       "      <th>3</th>\n",
       "      <td>4</td>\n",
       "      <td>0</td>\n",
       "      <td>#model   i love u take with u all the time in urð±!!! ðððð",
       "ð¦ð¦ð¦</td>\n",
       "    </tr>\n",
       "    <tr>\n",
       "      <th>4</th>\n",
       "      <td>5</td>\n",
       "      <td>0</td>\n",
       "      <td>factsguide: society now    #motivation</td>\n",
       "    </tr>\n",
       "  </tbody>\n",
       "</table></div>"
      ],
      "text/plain": [
       "   id  label                                              tweet\n",
       "0   1      0   @user when a father is dysfunctional and is s...\n",
       "1   2      0  @user @user thanks for #lyft credit i can't us...\n",
       "2   3      0                                bihday your majesty\n",
       "3   4      0  #model   i love u take with u all the time in ...\n",
       "4   5      0             factsguide: society now    #motivation"
      ]
     },
     "execution_count": 2,
     "metadata": {},
     "output_type": "execute_result"
    }
   ],
   "source": [
    "#read the data\n",
    "data = pd.read_csv('twitter_sentiments.csv')\n",
    "#peek into the data\n",
    "data.head()"
   ]
  },
  {
   "cell_type": "code",
   "execution_count": 3,
   "metadata": {},
   "outputs": [
    {
     "name": "stdout",
     "output_type": "stream",
     "text": [
      "The dataset has 31962 rows and 3 columns\n"
     ]
    }
   ],
   "source": [
    "print(f'The dataset has {data.shape[0]} rows and {data.shape[1]} columns')"
   ]
  },
  {
   "cell_type": "code",
   "execution_count": 4,
   "metadata": {},
   "outputs": [
    {
     "data": {
      "text/plain": [
       "0    29720\n",
       "1     2242\n",
       "Name: label, dtype: int64"
      ]
     },
     "execution_count": 4,
     "metadata": {},
     "output_type": "execute_result"
    }
   ],
   "source": [
    "data['label'].value_counts()"
   ]
  },
  {
   "cell_type": "markdown",
   "metadata": {},
   "source": [
    "#### Label for normal tweet is 0 and it is 1 for racist tweet"
   ]
  },
  {
   "cell_type": "code",
   "execution_count": 5,
   "metadata": {},
   "outputs": [
    {
     "name": "stdout",
     "output_type": "stream",
     "text": [
      "<class 'pandas.core.frame.DataFrame'>\n",
      "RangeIndex: 31962 entries, 0 to 31961\n",
      "Data columns (total 3 columns):\n",
      " #   Column  Non-Null Count  Dtype \n",
      "---  ------  --------------  ----- \n",
      " 0   id      31962 non-null  int64 \n",
      " 1   label   31962 non-null  int64 \n",
      " 2   tweet   31962 non-null  object\n",
      "dtypes: int64(2), object(1)\n",
      "memory usage: 749.2+ KB\n"
     ]
    }
   ],
   "source": [
    "data.info()"
   ]
  },
  {
   "cell_type": "code",
   "execution_count": 6,
   "metadata": {},
   "outputs": [],
   "source": [
    "# No missing data\n",
    "# I need my label to be a category column"
   ]
  },
  {
   "cell_type": "code",
   "execution_count": 7,
   "metadata": {},
   "outputs": [],
   "source": [
    "data['label'] = data['label'].astype('category')"
   ]
  },
  {
   "cell_type": "markdown",
   "metadata": {},
   "source": [
    "#### Lets split the data into train and test, i'll use 25% and stratify on 'label' so as to have same distribution of target as in train and test"
   ]
  },
  {
   "cell_type": "code",
   "execution_count": 8,
   "metadata": {},
   "outputs": [],
   "source": [
    "train, test = train_test_split(data, test_size = 0.25, stratify = data['label'], random_state=27)"
   ]
  },
  {
   "cell_type": "code",
   "execution_count": 9,
   "metadata": {
    "collapsed": true
   },
   "outputs": [
    {
     "data": {
      "text/html": [
       "<div><div id=547186be-6dbc-4813-9f40-b73b72c5c017 style=\"display:none; background-color:#9D6CFF; color:white; width:200px; height:30px; padding-left:5px; border-radius:4px; flex-direction:row; justify-content:space-around; align-items:center;\" onmouseover=\"this.style.backgroundColor='#BA9BF8'\" onmouseout=\"this.style.backgroundColor='#9D6CFF'\" onclick=\"window.commands?.execute('create-mitosheet-from-dataframe-output');\">See Full Dataframe in Mito</div> <script> if (window.commands.hasCommand('create-mitosheet-from-dataframe-output')) document.getElementById('547186be-6dbc-4813-9f40-b73b72c5c017').style.display = 'flex' </script> <table border=\"1\" class=\"dataframe\">\n",
       "  <thead>\n",
       "    <tr style=\"text-align: right;\">\n",
       "      <th></th>\n",
       "      <th>id</th>\n",
       "      <th>label</th>\n",
       "      <th>tweet</th>\n",
       "    </tr>\n",
       "  </thead>\n",
       "  <tbody>\n",
       "    <tr>\n",
       "      <th>15507</th>\n",
       "      <td>15508</td>\n",
       "      <td>0</td>\n",
       "      <td>you're destiny!   #smile #lifeisgood #live #life #lol #orlandoinmiami #originalâ¦</td>\n",
       "    </tr>\n",
       "    <tr>\n",
       "      <th>29287</th>\n",
       "      <td>29288</td>\n",
       "      <td>0</td>\n",
       "      <td>@user trust the process. trust yourself. trust your client. everything is exactly how it needs to be. #lifecoach #success</td>\n",
       "    </tr>\n",
       "    <tr>\n",
       "      <th>22992</th>\n",
       "      <td>22993</td>\n",
       "      <td>0</td>\n",
       "      <td>just in time for #weekend #shopping lists, our #june newsletter ! get the news on everything   #gut!  #foodie</td>\n",
       "    </tr>\n",
       "    <tr>\n",
       "      <th>15073</th>\n",
       "      <td>15074</td>\n",
       "      <td>0</td>\n",
       "      <td>@user i really need a quality poop. it has been way too long.</td>\n",
       "    </tr>\n",
       "    <tr>\n",
       "      <th>23000</th>\n",
       "      <td>23001</td>\n",
       "      <td>0</td>\n",
       "      <td>â #ukâs osborne warns of brexit budget cuts   #blog #silver #gold #forex</td>\n",
       "    </tr>\n",
       "    <tr>\n",
       "      <th>26165</th>\n",
       "      <td>26166</td>\n",
       "      <td>0</td>\n",
       "      <td>always   to share good things!</td>\n",
       "    </tr>\n",
       "    <tr>\n",
       "      <th>19634</th>\n",
       "      <td>19635</td>\n",
       "      <td>0</td>\n",
       "      <td>making sure i set up my life to live. #faith #trust   @ potato chip rock</td>\n",
       "    </tr>\n",
       "    <tr>\n",
       "      <th>21321</th>\n",
       "      <td>21322</td>\n",
       "      <td>0</td>\n",
       "      <td>@user  and we need better gun control too many people dying unnecessarily  why do people need ar-15's  to do what he did kill</td>\n",
       "    </tr>\n",
       "    <tr>\n",
       "      <th>16825</th>\n",
       "      <td>16826</td>\n",
       "      <td>1</td>\n",
       "      <td>@user #blacklivesmatters #lanasprayberry another  in a position of authority has got to go #blacktwitter</td>\n",
       "    </tr>\n",
       "    <tr>\n",
       "      <th>25897</th>\n",
       "      <td>25898</td>\n",
       "      <td>0</td>\n",
       "      <td>when you know when you wake up your gonna be a loose cannon with a sho fuse because of the heat and your job #trouble #paddedroom</td>\n",
       "    </tr>\n",
       "    <tr>\n",
       "      <th>12550</th>\n",
       "      <td>12551</td>\n",
       "      <td>0</td>\n",
       "      <td>@user   #thursday to everyone! wishing you #sunny #days âï¸ &amp;amp; lots of #blue #skies... (vine by @user</td>\n",
       "    </tr>\n",
       "    <tr>\n",
       "      <th>3942</th>\n",
       "      <td>3943</td>\n",
       "      <td>0</td>\n",
       "      <td>@user yes we have our tickets to see @user at the @user on tuesday,   #littleacorns</td>\n",
       "    </tr>\n",
       "    <tr>\n",
       "      <th>12919</th>\n",
       "      <td>12920</td>\n",
       "      <td>0</td>\n",
       "      <td>this makes me #mad &amp;amp;  ð¡ on a afternoon walk &amp;amp; this is what i see ðð¢ #animalcruelty  #animalabuse  #animalrights</td>\n",
       "    </tr>\n",
       "    <tr>\n",
       "      <th>14445</th>\n",
       "      <td>14446</td>\n",
       "      <td>0</td>\n",
       "      <td>\"how to overcome loneliness with #mindfulness meditation\"    #happiness #meditation</td>\n",
       "    </tr>\n",
       "    <tr>\n",
       "      <th>31271</th>\n",
       "      <td>31272</td>\n",
       "      <td>0</td>\n",
       "      <td>there's just something about #water that makes us feel #connected and  .</td>\n",
       "    </tr>\n",
       "    <tr>\n",
       "      <th>2306</th>\n",
       "      <td>2307</td>\n",
       "      <td>0</td>\n",
       "      <td>watermelon ð natural shot #ibiza #ibiza2016 #lovelife   #beachday #calataridaâ¦</td>\n",
       "    </tr>\n",
       "    <tr>\n",
       "      <th>6574</th>\n",
       "      <td>6575</td>\n",
       "      <td>1</td>\n",
       "      <td>ð @user  @user own team up with #new #mc @user &amp;amp; show what #phillysuppophilly &amp;amp; combat</td>\n",
       "    </tr>\n",
       "    <tr>\n",
       "      <th>5611</th>\n",
       "      <td>5612</td>\n",
       "      <td>0</td>\n",
       "      <td>@user @user @user absolutely no! at least 3 other guys were more desserving. proves once again league's favoritism toward him</td>\n",
       "    </tr>\n",
       "    <tr>\n",
       "      <th>22028</th>\n",
       "      <td>22029</td>\n",
       "      <td>0</td>\n",
       "      <td>that's what we're here for. visit our website:  #fredshouse #sunset   #happinessproject</td>\n",
       "    </tr>\n",
       "    <tr>\n",
       "      <th>25998</th>\n",
       "      <td>25999</td>\n",
       "      <td>0</td>\n",
       "      <td>peace. âð  ...?</td>\n",
       "    </tr>\n",
       "    <tr>\n",
       "      <th>11249</th>\n",
       "      <td>11250</td>\n",
       "      <td>0</td>\n",
       "      <td>@user look what i just pre-ordered @user   #jessaraeep #1monthtogo</td>\n",
       "    </tr>\n",
       "    <tr>\n",
       "      <th>21370</th>\n",
       "      <td>21371</td>\n",
       "      <td>0</td>\n",
       "      <td>what are the best ways to keep your #employees  ? #leadership #hr #productivity</td>\n",
       "    </tr>\n",
       "    <tr>\n",
       "      <th>18222</th>\n",
       "      <td>18223</td>\n",
       "      <td>0</td>\n",
       "      <td>the places i'll go. #photography #smileyface #smile #eggs #toilet   #flush #foodâ¦</td>\n",
       "    </tr>\n",
       "    <tr>\n",
       "      <th>14237</th>\n",
       "      <td>14238</td>\n",
       "      <td>0</td>\n",
       "      <td>no matter how you pick it.   #flagday #flagday2016</td>\n",
       "    </tr>\n",
       "    <tr>\n",
       "      <th>1256</th>\n",
       "      <td>1257</td>\n",
       "      <td>0</td>\n",
       "      <td>do you think that caitlyn jenner still gets father's day presents? #worldsbreastdad #number1dad?  (usedtobea)fathersday</td>\n",
       "    </tr>\n",
       "    <tr>\n",
       "      <th>12090</th>\n",
       "      <td>12091</td>\n",
       "      <td>0</td>\n",
       "      <td>father's day !</td>\n",
       "    </tr>\n",
       "    <tr>\n",
       "      <th>24938</th>\n",
       "      <td>24939</td>\n",
       "      <td>0</td>\n",
       "      <td>#shoutout to rob and kathy in #keywest #fl   #anniversary  #cheers!</td>\n",
       "    </tr>\n",
       "    <tr>\n",
       "      <th>10771</th>\n",
       "      <td>10772</td>\n",
       "      <td>0</td>\n",
       "      <td>we are helping our #coworkers be #productive and   daily in #durangoco!</td>\n",
       "    </tr>\n",
       "    <tr>\n",
       "      <th>25621</th>\n",
       "      <td>25622</td>\n",
       "      <td>0</td>\n",
       "      <td>@user @user @user @user @user @user @user thanks/ga wayne   #tgif how are you doing?</td>\n",
       "    </tr>\n",
       "    <tr>\n",
       "      <th>18999</th>\n",
       "      <td>19000</td>\n",
       "      <td>0</td>\n",
       "      <td>made it home for a week. just in time for the rain</td>\n",
       "    </tr>\n",
       "    <tr>\n",
       "      <th>...</th>\n",
       "      <td>...</td>\n",
       "      <td>...</td>\n",
       "      <td>...</td>\n",
       "    </tr>\n",
       "    <tr>\n",
       "      <th>13615</th>\n",
       "      <td>13616</td>\n",
       "      <td>1</td>\n",
       "      <td>@user you should take action against your filthy plantation location manager. what a disgraceful pos!  #boycott</td>\n",
       "    </tr>\n",
       "    <tr>\n",
       "      <th>21518</th>\n",
       "      <td>21519</td>\n",
       "      <td>0</td>\n",
       "      <td>happy bihday johnny!!!ððð #johnnydepp #bihday   #bihday #johnny #depp #johnnydepp</td>\n",
       "    </tr>\n",
       "    <tr>\n",
       "      <th>22867</th>\n",
       "      <td>22868</td>\n",
       "      <td>0</td>\n",
       "      <td>sunday lunch yardenaagresta 's ðð½ððâ¤ï¸ð   #longisland #bridgehampton #hamptons #nyc #gaynycâ¦</td>\n",
       "    </tr>\n",
       "    <tr>\n",
       "      <th>26238</th>\n",
       "      <td>26239</td>\n",
       "      <td>0</td>\n",
       "      <td>#smile   #positive @user - smile- on our #podcast episode 410</td>\n",
       "    </tr>\n",
       "    <tr>\n",
       "      <th>29300</th>\n",
       "      <td>29301</td>\n",
       "      <td>0</td>\n",
       "      <td>@user seriously disappointed w/ @user accessiblity policy. was looking forward 2 #reddeerexpo, but policy is outdatedâ¦</td>\n",
       "    </tr>\n",
       "    <tr>\n",
       "      <th>5039</th>\n",
       "      <td>5040</td>\n",
       "      <td>0</td>\n",
       "      <td>the massive spectacle that is #ndcoslo is taking shape for tomorrow's opening.</td>\n",
       "    </tr>\n",
       "    <tr>\n",
       "      <th>29014</th>\n",
       "      <td>29015</td>\n",
       "      <td>0</td>\n",
       "      <td>you will all be compensated, as promised.</td>\n",
       "    </tr>\n",
       "    <tr>\n",
       "      <th>19585</th>\n",
       "      <td>19586</td>\n",
       "      <td>0</td>\n",
       "      <td>@user thanking god for every moment i've been given, i live a great life. ð</td>\n",
       "    </tr>\n",
       "    <tr>\n",
       "      <th>3712</th>\n",
       "      <td>3713</td>\n",
       "      <td>0</td>\n",
       "      <td>@user #worldoceansday is less than 48 hrs awayð¦ flying to #nyc for @user ð @user is the best! âï¸</td>\n",
       "    </tr>\n",
       "    <tr>\n",
       "      <th>4850</th>\n",
       "      <td>4851</td>\n",
       "      <td>0</td>\n",
       "      <td>okay, this is the most painful story that i have ever had the pleasure of writing.   #feels #pain #death #itsliterallyheabreaking</td>\n",
       "    </tr>\n",
       "    <tr>\n",
       "      <th>30831</th>\n",
       "      <td>30832</td>\n",
       "      <td>1</td>\n",
       "      <td>@user there is only one requirement for the job of the us president: being male #stillwithher #hillaryclinton #neverumpâ¦</td>\n",
       "    </tr>\n",
       "    <tr>\n",
       "      <th>6698</th>\n",
       "      <td>6699</td>\n",
       "      <td>0</td>\n",
       "      <td>@user 2016, you're a mean drunk. go home.   #rip</td>\n",
       "    </tr>\n",
       "    <tr>\n",
       "      <th>25864</th>\n",
       "      <td>25865</td>\n",
       "      <td>0</td>\n",
       "      <td>cute metal dragonfly for $19.95 from vendor 29!! #dragonfly #homedecor #upsideofflorida   #shopalyssas</td>\n",
       "    </tr>\n",
       "    <tr>\n",
       "      <th>5998</th>\n",
       "      <td>5999</td>\n",
       "      <td>0</td>\n",
       "      <td>great class tonight!! ð #dancing #class   #proud #dance #passion #life</td>\n",
       "    </tr>\n",
       "    <tr>\n",
       "      <th>4320</th>\n",
       "      <td>4321</td>\n",
       "      <td>0</td>\n",
       "      <td>i was wondering how my 3 month old  is doing, then in 1 day, 2 past customers call me for more!</td>\n",
       "    </tr>\n",
       "    <tr>\n",
       "      <th>28192</th>\n",
       "      <td>28193</td>\n",
       "      <td>0</td>\n",
       "      <td>always be happy...ðð  #thanksgodð   sunday [pic] â</td>\n",
       "    </tr>\n",
       "    <tr>\n",
       "      <th>7749</th>\n",
       "      <td>7750</td>\n",
       "      <td>0</td>\n",
       "      <td>more pro-bernie egg people with zero followers. so this is what the end of the revolution looks like.</td>\n",
       "    </tr>\n",
       "    <tr>\n",
       "      <th>10000</th>\n",
       "      <td>10001</td>\n",
       "      <td>0</td>\n",
       "      <td>winston basking in the sun ð»ð»  #kittycat #cute #sunbathing #summer #tabby #lovehim   #loveâ¦</td>\n",
       "    </tr>\n",
       "    <tr>\n",
       "      <th>9572</th>\n",
       "      <td>9573</td>\n",
       "      <td>0</td>\n",
       "      <td>passenger hits brooklyn bus driver with bottle after argument #jobs #jobsearch #gaza: #an irate passen...</td>\n",
       "    </tr>\n",
       "    <tr>\n",
       "      <th>30995</th>\n",
       "      <td>30996</td>\n",
       "      <td>0</td>\n",
       "      <td>next rotation: operating room</td>\n",
       "    </tr>\n",
       "    <tr>\n",
       "      <th>13227</th>\n",
       "      <td>13228</td>\n",
       "      <td>0</td>\n",
       "      <td>i am lucky. #i_am #positive #affirmation</td>\n",
       "    </tr>\n",
       "    <tr>\n",
       "      <th>4694</th>\n",
       "      <td>4695</td>\n",
       "      <td>0</td>\n",
       "      <td>â#happiness is an #attitude. we either make ourselves miserable, or   and strong. the amount of #work is the same.â â francesca reigler</td>\n",
       "    </tr>\n",
       "    <tr>\n",
       "      <th>31485</th>\n",
       "      <td>31486</td>\n",
       "      <td>0</td>\n",
       "      <td>&amp;gt;&amp;gt;&amp;gt;&amp;gt;&amp;gt;&amp;gt;&amp;gt;&amp;gt;&amp;gt;&amp;gt;&amp;gt;&amp;gt;&amp;gt;&amp;gt;&amp;gt;&amp;gt;&amp;gt;&amp;gt;&amp;gt;&amp;gt;&amp;gt;&amp;gt;&amp;gt;&amp;gt;&amp;gt;&amp;gt;&amp;gt;&amp;gt;&amp;gt;&amp;gt;&amp;gt;&amp;gt;&amp;gt;&amp;gt;&amp;gt;&amp;gt; #äºå®®åä¹   bihday #to #you #æãå«ã¹ #33æ­³â¦</td>\n",
       "    </tr>\n",
       "    <tr>\n",
       "      <th>19843</th>\n",
       "      <td>19844</td>\n",
       "      <td>0</td>\n",
       "      <td>academic experience time! be pa of understanding, challenging and fun world that is geography @user #ready #proud</td>\n",
       "    </tr>\n",
       "    <tr>\n",
       "      <th>8502</th>\n",
       "      <td>8503</td>\n",
       "      <td>0</td>\n",
       "      <td>god always comes in the clutch! ðð½</td>\n",
       "    </tr>\n",
       "    <tr>\n",
       "      <th>9311</th>\n",
       "      <td>9312</td>\n",
       "      <td>0</td>\n",
       "      <td>i am thankful for forgiveness. #thankful #positive</td>\n",
       "    </tr>\n",
       "    <tr>\n",
       "      <th>11725</th>\n",
       "      <td>11726</td>\n",
       "      <td>0</td>\n",
       "      <td>@user game of thrones season 6: episode #9 preview (hbo) #battleofbastards</td>\n",
       "    </tr>\n",
       "    <tr>\n",
       "      <th>9079</th>\n",
       "      <td>9080</td>\n",
       "      <td>1</td>\n",
       "      <td>@user this is really telling.   #microaggressions #race #whiteprivilege #antiblackness</td>\n",
       "    </tr>\n",
       "    <tr>\n",
       "      <th>6952</th>\n",
       "      <td>6953</td>\n",
       "      <td>0</td>\n",
       "      <td>lincoln #firefighter dies while #exercising  #soundtrainingnews #rip #lodd #fire #ems</td>\n",
       "    </tr>\n",
       "    <tr>\n",
       "      <th>6005</th>\n",
       "      <td>6006</td>\n",
       "      <td>0</td>\n",
       "      <td>sunday shopping!   #sunday #ootd #adidas #adidasoriginals #clothes #fashion ððð</td>\n",
       "    </tr>\n",
       "  </tbody>\n",
       "</table></div>"
      ],
      "text/plain": [
       "          id label                                              tweet\n",
       "15507  15508     0  you're destiny!   #smile #lifeisgood #live #li...\n",
       "29287  29288     0  @user trust the process. trust yourself. trust...\n",
       "22992  22993     0  just in time for #weekend #shopping lists, our...\n",
       "15073  15074     0   @user i really need a quality poop. it has be...\n",
       "23000  23001     0   â #ukâs osborne warns of brexit budget cu...\n",
       "...      ...   ...                                                ...\n",
       "9311    9312     0  i am thankful for forgiveness. #thankful #posi...\n",
       "11725  11726     0   @user game of thrones season 6: episode #9 pr...\n",
       "9079    9080     1  @user this is really telling.   #microaggressi...\n",
       "6952    6953     0  lincoln #firefighter dies while #exercising  #...\n",
       "6005    6006     0  sunday shopping!   #sunday #ootd #adidas #adid...\n",
       "\n",
       "[23971 rows x 3 columns]"
      ]
     },
     "execution_count": 9,
     "metadata": {},
     "output_type": "execute_result"
    }
   ],
   "source": [
    "train"
   ]
  },
  {
   "cell_type": "markdown",
   "metadata": {},
   "source": [
    "## Processing the tweets"
   ]
  },
  {
   "cell_type": "code",
   "execution_count": 11,
   "metadata": {},
   "outputs": [],
   "source": [
    "# Remove the special characters and lemmatize\n",
    "Lemma = WordNetLemmatizer()"
   ]
  },
  {
   "cell_type": "code",
   "execution_count": 13,
   "metadata": {},
   "outputs": [],
   "source": [
    "train['text'] = [Lemma.lemmatize(''.join(Lemma.lemmatize(re.sub('[^A-Za-z]',' ',text)) for text in tweet)) for tweet in train['tweet']]\n"
   ]
  },
  {
   "cell_type": "code",
   "execution_count": 18,
   "metadata": {},
   "outputs": [],
   "source": [
    "test['text'] = [Lemma.lemmatize(''.join(Lemma.lemmatize(re.sub('[^A-Za-z]',' ',text)) for text in tweet)) for tweet in test['tweet']]"
   ]
  },
  {
   "cell_type": "code",
   "execution_count": 14,
   "metadata": {
    "collapsed": true
   },
   "outputs": [
    {
     "data": {
      "text/html": [
       "<div><div id=913254a6-385e-4c30-aee3-32ebef626843 style=\"display:none; background-color:#9D6CFF; color:white; width:200px; height:30px; padding-left:5px; border-radius:4px; flex-direction:row; justify-content:space-around; align-items:center;\" onmouseover=\"this.style.backgroundColor='#BA9BF8'\" onmouseout=\"this.style.backgroundColor='#9D6CFF'\" onclick=\"window.commands?.execute('create-mitosheet-from-dataframe-output');\">See Full Dataframe in Mito</div> <script> if (window.commands.hasCommand('create-mitosheet-from-dataframe-output')) document.getElementById('913254a6-385e-4c30-aee3-32ebef626843').style.display = 'flex' </script> <table border=\"1\" class=\"dataframe\">\n",
       "  <thead>\n",
       "    <tr style=\"text-align: right;\">\n",
       "      <th></th>\n",
       "      <th>id</th>\n",
       "      <th>label</th>\n",
       "      <th>tweet</th>\n",
       "      <th>text</th>\n",
       "    </tr>\n",
       "  </thead>\n",
       "  <tbody>\n",
       "    <tr>\n",
       "      <th>15507</th>\n",
       "      <td>15508</td>\n",
       "      <td>0</td>\n",
       "      <td>you're destiny!   #smile #lifeisgood #live #life #lol #orlandoinmiami #originalâ¦</td>\n",
       "      <td>you re destiny     smile  lifeisgood  live  life  lol  orlandoinmiami  original</td>\n",
       "    </tr>\n",
       "    <tr>\n",
       "      <th>29287</th>\n",
       "      <td>29288</td>\n",
       "      <td>0</td>\n",
       "      <td>@user trust the process. trust yourself. trust your client. everything is exactly how it needs to be. #lifecoach #success</td>\n",
       "      <td>user trust the process  trust yourself  trust your client  everything is exactly how it needs to be   lifecoach  success</td>\n",
       "    </tr>\n",
       "    <tr>\n",
       "      <th>22992</th>\n",
       "      <td>22993</td>\n",
       "      <td>0</td>\n",
       "      <td>just in time for #weekend #shopping lists, our #june newsletter ! get the news on everything   #gut!  #foodie</td>\n",
       "      <td>just in time for  weekend  shopping lists  our  june newsletter   get the news on everything    gut    foodie</td>\n",
       "    </tr>\n",
       "    <tr>\n",
       "      <th>15073</th>\n",
       "      <td>15074</td>\n",
       "      <td>0</td>\n",
       "      <td>@user i really need a quality poop. it has been way too long.</td>\n",
       "      <td>user i really need a quality poop  it has been way too long</td>\n",
       "    </tr>\n",
       "    <tr>\n",
       "      <th>23000</th>\n",
       "      <td>23001</td>\n",
       "      <td>0</td>\n",
       "      <td>â #ukâs osborne warns of brexit budget cuts   #blog #silver #gold #forex</td>\n",
       "      <td>uk   s osborne warns of brexit budget cuts    blog  silver  gold  forex</td>\n",
       "    </tr>\n",
       "  </tbody>\n",
       "</table></div>"
      ],
      "text/plain": [
       "          id label                                              tweet  \\\n",
       "15507  15508     0  you're destiny!   #smile #lifeisgood #live #li...   \n",
       "29287  29288     0  @user trust the process. trust yourself. trust...   \n",
       "22992  22993     0  just in time for #weekend #shopping lists, our...   \n",
       "15073  15074     0   @user i really need a quality poop. it has be...   \n",
       "23000  23001     0   â #ukâs osborne warns of brexit budget cu...   \n",
       "\n",
       "                                                    text  \n",
       "15507  you re destiny     smile  lifeisgood  live  li...  \n",
       "29287   user trust the process  trust yourself  trust...  \n",
       "22992  just in time for  weekend  shopping lists  our...  \n",
       "15073    user i really need a quality poop  it has be...  \n",
       "23000        uk   s osborne warns of brexit budget cu...  "
      ]
     },
     "execution_count": 14,
     "metadata": {},
     "output_type": "execute_result"
    }
   ],
   "source": [
    "train.head()"
   ]
  },
  {
   "cell_type": "code",
   "execution_count": 19,
   "metadata": {
    "collapsed": true
   },
   "outputs": [
    {
     "data": {
      "text/html": [
       "<div><div id=3dbc4a10-09c3-4b98-813b-8ae5df5a9a0d style=\"display:none; background-color:#9D6CFF; color:white; width:200px; height:30px; padding-left:5px; border-radius:4px; flex-direction:row; justify-content:space-around; align-items:center;\" onmouseover=\"this.style.backgroundColor='#BA9BF8'\" onmouseout=\"this.style.backgroundColor='#9D6CFF'\" onclick=\"window.commands?.execute('create-mitosheet-from-dataframe-output');\">See Full Dataframe in Mito</div> <script> if (window.commands.hasCommand('create-mitosheet-from-dataframe-output')) document.getElementById('3dbc4a10-09c3-4b98-813b-8ae5df5a9a0d').style.display = 'flex' </script> <table border=\"1\" class=\"dataframe\">\n",
       "  <thead>\n",
       "    <tr style=\"text-align: right;\">\n",
       "      <th></th>\n",
       "      <th>id</th>\n",
       "      <th>label</th>\n",
       "      <th>tweet</th>\n",
       "      <th>text</th>\n",
       "    </tr>\n",
       "  </thead>\n",
       "  <tbody>\n",
       "    <tr>\n",
       "      <th>2859</th>\n",
       "      <td>2860</td>\n",
       "      <td>0</td>\n",
       "      <td>i hate when people take shit that don't belong to them!!!! #frustrating #fedup #so   ð¡ð¡ð¡ð ð ð</td>\n",
       "      <td>i hate when people take shit that don t belong to them      frustrating  fedup  so</td>\n",
       "    </tr>\n",
       "    <tr>\n",
       "      <th>20048</th>\n",
       "      <td>20049</td>\n",
       "      <td>1</td>\n",
       "      <td>#trump ally wishes mad cow disease death for #obama - cnn  #hatred #insults</td>\n",
       "      <td>trump ally wishes mad cow disease death for  obama   cnn   hatred  insults</td>\n",
       "    </tr>\n",
       "    <tr>\n",
       "      <th>25817</th>\n",
       "      <td>25818</td>\n",
       "      <td>0</td>\n",
       "      <td>#beachbody   bull up: you will dominate your bull and you will direct it whatever you want it to do. when yo</td>\n",
       "      <td>beachbody   bull up  you will dominate your bull and you will direct it whatever you want it to do  when yo</td>\n",
       "    </tr>\n",
       "    <tr>\n",
       "      <th>10255</th>\n",
       "      <td>10256</td>\n",
       "      <td>1</td>\n",
       "      <td>so this girl walks into #starbucks and refuses to let me serve her because i'm a white guy? whoa hey there  and</td>\n",
       "      <td>so this girl walks into  starbucks and refuses to let me serve her because i m a white guy  whoa hey there  and</td>\n",
       "    </tr>\n",
       "    <tr>\n",
       "      <th>2183</th>\n",
       "      <td>2184</td>\n",
       "      <td>0</td>\n",
       "      <td>#jacksonville   rooster simulation: i want to climb the vast expanse of mountains. it reached the leakage co</td>\n",
       "      <td>jacksonville   rooster simulation  i want to climb the vast expanse of mountains  it reached the leakage co</td>\n",
       "    </tr>\n",
       "  </tbody>\n",
       "</table></div>"
      ],
      "text/plain": [
       "          id label                                              tweet  \\\n",
       "2859    2860     0  i hate when people take shit that don't belong...   \n",
       "20048  20049     1  #trump ally wishes mad cow disease death for #...   \n",
       "25817  25818     0  #beachbody   bull up: you will dominate your b...   \n",
       "10255  10256     1  so this girl walks into #starbucks and refuses...   \n",
       "2183    2184     0  #jacksonville   rooster simulation: i want to ...   \n",
       "\n",
       "                                                    text  \n",
       "2859   i hate when people take shit that don t belong...  \n",
       "20048   trump ally wishes mad cow disease death for  ...  \n",
       "25817   beachbody   bull up  you will dominate your b...  \n",
       "10255  so this girl walks into  starbucks and refuses...  \n",
       "2183    jacksonville   rooster simulation  i want to ...  "
      ]
     },
     "execution_count": 19,
     "metadata": {},
     "output_type": "execute_result"
    }
   ],
   "source": [
    "test.head()"
   ]
  },
  {
   "cell_type": "code",
   "execution_count": null,
   "metadata": {},
   "outputs": [],
   "source": [
    "WordNetLemmatizer()"
   ]
  },
  {
   "cell_type": "code",
   "execution_count": null,
   "metadata": {},
   "outputs": [],
   "source": []
  },
  {
   "cell_type": "markdown",
   "metadata": {},
   "source": [
    "### Vectorizer (1)"
   ]
  },
  {
   "cell_type": "code",
   "execution_count": 17,
   "metadata": {},
   "outputs": [
    {
     "data": {
      "text/plain": [
       "TfidfVectorizer(max_features=1000,\n",
       "                stop_words=frozenset({'a', 'about', 'above', 'across', 'after',\n",
       "                                      'afterwards', 'again', 'against', 'all',\n",
       "                                      'almost', 'alone', 'along', 'already',\n",
       "                                      'also', 'although', 'always', 'am',\n",
       "                                      'among', 'amongst', 'amoungst', 'amount',\n",
       "                                      'an', 'and', 'another', 'any', 'anyhow',\n",
       "                                      'anyone', 'anything', 'anyway',\n",
       "                                      'anywhere', ...}))"
      ]
     },
     "execution_count": 17,
     "metadata": {},
     "output_type": "execute_result"
    }
   ],
   "source": [
    "#creating a vectorizer object\n",
    "TfidfVector = TfidfVectorizer(lowercase=True,stop_words=ENGLISH_STOP_WORDS, max_features=1000)\n",
    "\n",
    "#fit the vectorizzer with the train tweets\n",
    "TfidfVector.fit(train.text)"
   ]
  },
  {
   "cell_type": "code",
   "execution_count": 20,
   "metadata": {},
   "outputs": [],
   "source": [
    "#transform the train and test data\n",
    "\n",
    "train_idf = TfidfVector.transform(train.text)\n",
    "test_idf = TfidfVector.transform(test.text)"
   ]
  },
  {
   "cell_type": "code",
   "execution_count": null,
   "metadata": {},
   "outputs": [],
   "source": []
  },
  {
   "cell_type": "code",
   "execution_count": null,
   "metadata": {},
   "outputs": [],
   "source": []
  },
  {
   "cell_type": "markdown",
   "metadata": {},
   "source": [
    "### Vectorizer(2)"
   ]
  },
  {
   "cell_type": "code",
   "execution_count": 37,
   "metadata": {},
   "outputs": [],
   "source": [
    "new_tfidf = TfidfVectorizer(lowercase=True,stop_words=ENGLISH_STOP_WORDS, ngram_range=(1,3))"
   ]
  },
  {
   "cell_type": "code",
   "execution_count": 38,
   "metadata": {
    "scrolled": true
   },
   "outputs": [
    {
     "data": {
      "text/plain": [
       "TfidfVectorizer(ngram_range=(1, 3),\n",
       "                stop_words=frozenset({'a', 'about', 'above', 'across', 'after',\n",
       "                                      'afterwards', 'again', 'against', 'all',\n",
       "                                      'almost', 'alone', 'along', 'already',\n",
       "                                      'also', 'although', 'always', 'am',\n",
       "                                      'among', 'amongst', 'amoungst', 'amount',\n",
       "                                      'an', 'and', 'another', 'any', 'anyhow',\n",
       "                                      'anyone', 'anything', 'anyway',\n",
       "                                      'anywhere', ...}))"
      ]
     },
     "execution_count": 38,
     "metadata": {},
     "output_type": "execute_result"
    }
   ],
   "source": [
    "#fit the new vectorizer\n",
    "new_tfidf.fit(train.text)"
   ]
  },
  {
   "cell_type": "code",
   "execution_count": 40,
   "metadata": {},
   "outputs": [],
   "source": [
    "new_train_idf = new_tfidf.transform(train.text)\n",
    "new_test_idf = new_tfidf.transform(test.text)"
   ]
  },
  {
   "cell_type": "code",
   "execution_count": null,
   "metadata": {},
   "outputs": [],
   "source": []
  },
  {
   "cell_type": "code",
   "execution_count": null,
   "metadata": {},
   "outputs": [],
   "source": []
  },
  {
   "cell_type": "code",
   "execution_count": null,
   "metadata": {},
   "outputs": [],
   "source": []
  },
  {
   "cell_type": "markdown",
   "metadata": {},
   "source": [
    "### Model Building"
   ]
  },
  {
   "cell_type": "code",
   "execution_count": 22,
   "metadata": {},
   "outputs": [],
   "source": [
    "#creating the object\n",
    "LogReg = LogisticRegression()\n",
    "Multi_Nb = MultinomialNB()"
   ]
  },
  {
   "cell_type": "code",
   "execution_count": 24,
   "metadata": {},
   "outputs": [
    {
     "name": "stdout",
     "output_type": "stream",
     "text": [
      "Score on train 0.4738886491152352\n",
      "Score on test 0.48984771573604063\n"
     ]
    }
   ],
   "source": [
    "# fitting the data\n",
    "LogReg.fit(train_idf,train.label)\n",
    "\n",
    "# predicting on train\n",
    "train_prediction = LogReg.predict(train_idf)\n",
    "\n",
    "#predict on test\n",
    "test_prediction = LogReg.predict(test_idf)\n",
    "\n",
    "#Measuring accuracy on train\n",
    "print(f'Score on train {f1_score(y_true=train.label, y_pred=train_prediction)}')\n",
    "\n",
    "#Measuring accuracy on test \n",
    "print(f'Score on test {f1_score(y_true=test.label, y_pred=test_prediction)}')"
   ]
  },
  {
   "cell_type": "code",
   "execution_count": 25,
   "metadata": {},
   "outputs": [
    {
     "name": "stdout",
     "output_type": "stream",
     "text": [
      "Score on train 0.40712003651300777\n",
      "Score on test 0.4366576819407008\n"
     ]
    }
   ],
   "source": [
    "# fitting the data\n",
    "Multi_Nb.fit(train_idf,train.label)\n",
    "\n",
    "# predicting on train\n",
    "nb_train_prediction = Multi_Nb.predict(train_idf)\n",
    "\n",
    "#predict on test\n",
    "nb_test_prediction = Multi_Nb.predict(test_idf)\n",
    "\n",
    "#Measuring accuracy on train\n",
    "print(f'Score on train {f1_score(y_true=train.label, y_pred=nb_train_prediction)}')\n",
    "\n",
    "#Measuring accuracy on test \n",
    "print(f'Score on test {f1_score(y_true=test.label, y_pred=nb_test_prediction)}')"
   ]
  },
  {
   "cell_type": "code",
   "execution_count": 28,
   "metadata": {},
   "outputs": [],
   "source": [
    "Up_LogReg = LogisticRegression(C=100, max_iter=1000)"
   ]
  },
  {
   "cell_type": "code",
   "execution_count": 29,
   "metadata": {},
   "outputs": [
    {
     "name": "stdout",
     "output_type": "stream",
     "text": [
      "Score on train 0.583522297808012\n",
      "Score on test 0.5590200445434298\n"
     ]
    }
   ],
   "source": [
    "# fitting the data\n",
    "Up_LogReg.fit(train_idf,train.label)\n",
    "\n",
    "# predicting on train\n",
    "up_train_prediction = Up_LogReg.predict(train_idf)\n",
    "\n",
    "#predict on test\n",
    "up_test_prediction = Up_LogReg.predict(test_idf)\n",
    "\n",
    "#Measuring accuracy on train\n",
    "print(f'Score on train {f1_score(y_true=train.label, y_pred=up_train_prediction)}')\n",
    "\n",
    "#Measuring accuracy on test \n",
    "print(f'Score on test {f1_score(y_true=test.label, y_pred=up_test_prediction)}')"
   ]
  },
  {
   "cell_type": "code",
   "execution_count": 30,
   "metadata": {},
   "outputs": [
    {
     "data": {
      "text/plain": [
       "GridSearchCV(estimator=MultinomialNB(),\n",
       "             param_grid={'alpha': (1, 0.1, 0.01, 0.001, 0.0001, 1e-05)})"
      ]
     },
     "execution_count": 30,
     "metadata": {},
     "output_type": "execute_result"
    }
   ],
   "source": [
    "from sklearn.model_selection import GridSearchCV\n",
    "parameters = {'alpha': (1, 0.1, 0.01, 0.001, 0.0001, 0.00001)}  \n",
    "grid_search= GridSearchCV(Multi_Nb, parameters)\n",
    "grid_search.fit(train_idf, train.label)"
   ]
  },
  {
   "cell_type": "code",
   "execution_count": 31,
   "metadata": {},
   "outputs": [
    {
     "data": {
      "text/plain": [
       "{'alpha': 0.1}"
      ]
     },
     "execution_count": 31,
     "metadata": {},
     "output_type": "execute_result"
    }
   ],
   "source": [
    "grid_search.best_params_"
   ]
  },
  {
   "cell_type": "code",
   "execution_count": 32,
   "metadata": {},
   "outputs": [
    {
     "data": {
      "text/plain": [
       "0.9453923243470397"
      ]
     },
     "execution_count": 32,
     "metadata": {},
     "output_type": "execute_result"
    }
   ],
   "source": [
    "grid_search.best_score_"
   ]
  },
  {
   "cell_type": "code",
   "execution_count": 33,
   "metadata": {},
   "outputs": [
    {
     "name": "stdout",
     "output_type": "stream",
     "text": [
      "Score on train 0.4626609442060086\n",
      "Score on test 0.4728682170542636\n"
     ]
    }
   ],
   "source": [
    "tuned_Multi_Nb = MultinomialNB(alpha=0.1)\n",
    "\n",
    "# fitting the data\n",
    "tuned_Multi_Nb.fit(train_idf,train.label)\n",
    "\n",
    "# predicting on train\n",
    "tuned_nb_train_prediction =tuned_Multi_Nb.predict(train_idf)\n",
    "\n",
    "#predict on test\n",
    "tuned_nb_test_prediction = tuned_Multi_Nb.predict(test_idf)\n",
    "\n",
    "#Measuring accuracy on train\n",
    "print(f'Score on train {f1_score(y_true=train.label, y_pred=tuned_nb_train_prediction)}')\n",
    "\n",
    "#Measuring accuracy on test \n",
    "print(f'Score on test {f1_score(y_true=test.label, y_pred=tuned_nb_test_prediction)}')"
   ]
  },
  {
   "cell_type": "code",
   "execution_count": null,
   "metadata": {},
   "outputs": [],
   "source": []
  },
  {
   "cell_type": "markdown",
   "metadata": {},
   "source": [
    "### Model Building with the new_tfidf\n"
   ]
  },
  {
   "cell_type": "code",
   "execution_count": 42,
   "metadata": {},
   "outputs": [
    {
     "name": "stdout",
     "output_type": "stream",
     "text": [
      "Score on train 0.998212157330155\n",
      "Score on test 0.7457286432160806\n"
     ]
    }
   ],
   "source": [
    "# fitting the data\n",
    "Up_LogReg.fit(new_train_idf,train.label)\n",
    "\n",
    "# predicting on train\n",
    "new_train_prediction = Up_LogReg.predict(new_train_idf)\n",
    "\n",
    "#predict on test\n",
    "new_test_prediction = Up_LogReg.predict(new_test_idf)\n",
    "\n",
    "#Measuring accuracy on train\n",
    "print(f'Score on train {f1_score(y_true=train.label, y_pred=new_train_prediction)}')\n",
    "\n",
    "#Measuring accuracy on test \n",
    "print(f'Score on test {f1_score(y_true=test.label, y_pred=new_test_prediction)}')"
   ]
  },
  {
   "cell_type": "markdown",
   "metadata": {},
   "source": [
    "####  Now that we have a fairly accurate model, let's have a pipeline"
   ]
  },
  {
   "cell_type": "markdown",
   "metadata": {},
   "source": [
    "1. We have a tf-idf vectorizer with n-gram range of (1-3, lowercase set to true with no restriction on features\n",
    "2. We have a Logistic Regression model with C=100 and max_iter= 1000"
   ]
  },
  {
   "cell_type": "code",
   "execution_count": 52,
   "metadata": {
    "collapsed": true
   },
   "outputs": [
    {
     "data": {
      "text/plain": [
       "Pipeline(steps=[('tfidf',\n",
       "                 TfidfVectorizer(ngram_range=(1, 3),\n",
       "                                 stop_words=frozenset({'a', 'about', 'above',\n",
       "                                                       'across', 'after',\n",
       "                                                       'afterwards', 'again',\n",
       "                                                       'against', 'all',\n",
       "                                                       'almost', 'alone',\n",
       "                                                       'along', 'already',\n",
       "                                                       'also', 'although',\n",
       "                                                       'always', 'am', 'among',\n",
       "                                                       'amongst', 'amoungst',\n",
       "                                                       'amount', 'an', 'and',\n",
       "                                                       'another', 'any',\n",
       "                                                       'anyhow', 'anyone',\n",
       "                                                       'anything', 'anyway',\n",
       "                                                       'anywhere', ...}))),\n",
       "                ('model', LogisticRegression(C=100, max_iter=1000))])"
      ]
     },
     "execution_count": 52,
     "metadata": {},
     "output_type": "execute_result"
    }
   ],
   "source": [
    "#Pipeline\n",
    "\n",
    "pipeline = Pipeline(steps=[('tfidf', TfidfVectorizer(lowercase=True,\n",
    "                                                    stop_words=ENGLISH_STOP_WORDS,\n",
    "                                                    ngram_range=(1,3))),\n",
    "                           ('model', LogisticRegression(C=100,max_iter=1000))])\n",
    "\n",
    "#fit the pipeline with the training data\n",
    "pipeline.fit(train.text, train.label)"
   ]
  },
  {
   "cell_type": "code",
   "execution_count": 53,
   "metadata": {},
   "outputs": [
    {
     "data": {
      "text/plain": [
       "array([0])"
      ]
     },
     "execution_count": 53,
     "metadata": {},
     "output_type": "execute_result"
    }
   ],
   "source": [
    "text = [\"Virat Kohli, AB de Villiers set to auction their 'Green Day' kits from 2016 IPL match to raise funds\"]\n",
    "pipeline.predict(text)"
   ]
  },
  {
   "cell_type": "code",
   "execution_count": 73,
   "metadata": {},
   "outputs": [
    {
     "data": {
      "text/plain": [
       "array([1])"
      ]
     },
     "execution_count": 73,
     "metadata": {},
     "output_type": "execute_result"
    }
   ],
   "source": [
    "text = [\"Tell that black dude to return what he took\"]\n",
    "pipeline.predict(text)"
   ]
  },
  {
   "cell_type": "code",
   "execution_count": 84,
   "metadata": {},
   "outputs": [
    {
     "data": {
      "text/plain": [
       "array([1])"
      ]
     },
     "execution_count": 84,
     "metadata": {},
     "output_type": "execute_result"
    }
   ],
   "source": [
    "text = [\"it is a world run by the Zionist Jewish Influence and Race Tainting Paedophiles that are only here to take our heritage and destroy the qualities that make us White People great…\"]\n",
    "pipeline.predict(text)"
   ]
  },
  {
   "cell_type": "code",
   "execution_count": 85,
   "metadata": {},
   "outputs": [
    {
     "data": {
      "text/plain": [
       "array([0])"
      ]
     },
     "execution_count": 85,
     "metadata": {},
     "output_type": "execute_result"
    }
   ],
   "source": [
    "text = [\"Arabs have no knowledge of personal hygiene products such as deodorant or even soap\"]# nothing has ever turned my stomach like the fetid stench of unwashed wogs!\"]\n",
    "pipeline.predict(text)"
   ]
  },
  {
   "cell_type": "code",
   "execution_count": 99,
   "metadata": {},
   "outputs": [
    {
     "data": {
      "text/plain": [
       "array([0])"
      ]
     },
     "execution_count": 99,
     "metadata": {},
     "output_type": "execute_result"
    }
   ],
   "source": [
    "text = ['Damning russian filt']\n",
    "pipeline.predict(text)"
   ]
  },
  {
   "cell_type": "code",
   "execution_count": 101,
   "metadata": {
    "scrolled": true
   },
   "outputs": [
    {
     "data": {
      "text/plain": [
       "array([1])"
      ]
     },
     "execution_count": 101,
     "metadata": {},
     "output_type": "execute_result"
    }
   ],
   "source": [
    "text = [\"Non Muslim Arab Women end up looking like cheap drag queens, a parody of Woman\"]\n",
    "pipeline.predict(text)"
   ]
  },
  {
   "cell_type": "code",
   "execution_count": 105,
   "metadata": {},
   "outputs": [
    {
     "data": {
      "text/plain": [
       "array([1])"
      ]
     },
     "execution_count": 105,
     "metadata": {},
     "output_type": "execute_result"
    }
   ],
   "source": [
    "text = [\"i'll only employ white people\"]\n",
    "pipeline.predict(text)"
   ]
  },
  {
   "cell_type": "code",
   "execution_count": null,
   "metadata": {},
   "outputs": [],
   "source": []
  },
  {
   "cell_type": "code",
   "execution_count": null,
   "metadata": {},
   "outputs": [],
   "source": []
  },
  {
   "cell_type": "code",
   "execution_count": null,
   "metadata": {},
   "outputs": [],
   "source": []
  },
  {
   "cell_type": "code",
   "execution_count": 79,
   "metadata": {},
   "outputs": [
    {
     "name": "stdout",
     "output_type": "stream",
     "text": [
      "Score on test 0.7457286432160806\n"
     ]
    }
   ],
   "source": [
    "pipeline_predict = pipeline.predict(test.text)\n",
    "print(f'Score on test {f1_score(y_true=test.label, y_pred=pipeline_predict)}')"
   ]
  },
  {
   "cell_type": "code",
   "execution_count": null,
   "metadata": {},
   "outputs": [],
   "source": []
  },
  {
   "cell_type": "markdown",
   "metadata": {},
   "source": [
    "### Dump the model "
   ]
  },
  {
   "cell_type": "code",
   "execution_count": 106,
   "metadata": {},
   "outputs": [
    {
     "data": {
      "text/plain": [
       "['tweet_classification.joblib']"
      ]
     },
     "execution_count": 106,
     "metadata": {},
     "output_type": "execute_result"
    }
   ],
   "source": [
    "#import joblib\n",
    "from joblib import dump\n",
    "\n",
    "#dump the model \n",
    "dump(pipeline, filename=\"tweet_classification.joblib\")"
   ]
  },
  {
   "cell_type": "code",
   "execution_count": null,
   "metadata": {},
   "outputs": [],
   "source": []
  },
  {
   "cell_type": "code",
   "execution_count": 49,
   "metadata": {},
   "outputs": [],
   "source": []
  },
  {
   "cell_type": "code",
   "execution_count": null,
   "metadata": {},
   "outputs": [],
   "source": []
  },
  {
   "cell_type": "code",
   "execution_count": 58,
   "metadata": {},
   "outputs": [],
   "source": [
    "from wordcloud import WordCloud"
   ]
  },
  {
   "cell_type": "code",
   "execution_count": 66,
   "metadata": {},
   "outputs": [],
   "source": [
    "wordcloud = WordCloud(width = 800, height = 800, background_color = 'black', min_font_size = 20)"
   ]
  },
  {
   "cell_type": "code",
   "execution_count": 70,
   "metadata": {},
   "outputs": [
    {
     "data": {
      "text/plain": [
       "<matplotlib.image.AxesImage at 0x7f4fa08f7f10>"
      ]
     },
     "execution_count": 70,
     "metadata": {},
     "output_type": "execute_result"
    },
    {
     "data": {
      "image/png": "[encoded data removed]",
      "text/plain": [
       "<Figure size 720x720 with 1 Axes>"
      ]
     },
     "metadata": {
      "needs_background": "light"
     },
     "output_type": "display_data"
    }
   ],
   "source": [
    "import matplotlib.pyplot as plt\n",
    "\n",
    "plt.figure(figsize=(10,10))\n",
    "plt.imshow(wordcloud.generate(str(racist_comments['text'])))"
   ]
  },
  {
   "cell_type": "code",
   "execution_count": 104,
   "metadata": {},
   "outputs": [
    {
     "data": {
      "text/html": [
       "<div><div id=d84a2ebc-b480-4177-81b1-c18fb9035461 style=\"display:none; background-color:#9D6CFF; color:white; width:200px; height:30px; padding-left:5px; border-radius:4px; flex-direction:row; justify-content:space-around; align-items:center;\" onmouseover=\"this.style.backgroundColor='#BA9BF8'\" onmouseout=\"this.style.backgroundColor='#9D6CFF'\" onclick=\"window.commands?.execute('create-mitosheet-from-dataframe-output');\">See Full Dataframe in Mito</div> <script> if (window.commands.hasCommand('create-mitosheet-from-dataframe-output')) document.getElementById('d84a2ebc-b480-4177-81b1-c18fb9035461').style.display = 'flex' </script> <table border=\"1\" class=\"dataframe\">\n",
       "  <thead>\n",
       "    <tr style=\"text-align: right;\">\n",
       "      <th></th>\n",
       "      <th>id</th>\n",
       "      <th>label</th>\n",
       "      <th>tweet</th>\n",
       "      <th>text</th>\n",
       "    </tr>\n",
       "  </thead>\n",
       "  <tbody>\n",
       "    <tr>\n",
       "      <th>11604</th>\n",
       "      <td>11605</td>\n",
       "      <td>1</td>\n",
       "      <td>#sikh #temple vandalised in in #calgary, #wso condemns  act</td>\n",
       "      <td>sikh  temple vandalised in in  calgary   wso condemns  act</td>\n",
       "    </tr>\n",
       "    <tr>\n",
       "      <th>6167</th>\n",
       "      <td>6168</td>\n",
       "      <td>1</td>\n",
       "      <td>sea shepherd suppoers are racist!  #seashepherd    #antiracism</td>\n",
       "      <td>sea shepherd suppoers are racist    seashepherd     antiracism</td>\n",
       "    </tr>\n",
       "    <tr>\n",
       "      <th>21185</th>\n",
       "      <td>21186</td>\n",
       "      <td>1</td>\n",
       "      <td>@user there is no way, that this, this... man should be allowed to become attorney general.  #liar #asshat</td>\n",
       "      <td>user there is no way  that this  this    man should be allowed to become attorney general    liar  asshat</td>\n",
       "    </tr>\n",
       "    <tr>\n",
       "      <th>15924</th>\n",
       "      <td>15925</td>\n",
       "      <td>1</td>\n",
       "      <td>nothing would be more dangerous than to give #putinschoice the impression we accept  #stopracism #boycott?â¦</td>\n",
       "      <td>nothing would be more dangerous than to give  putinschoice the impression we accept   stopracism  boycott</td>\n",
       "    </tr>\n",
       "    <tr>\n",
       "      <th>19115</th>\n",
       "      <td>19116</td>\n",
       "      <td>1</td>\n",
       "      <td>are you #hispanic &amp;amp; feel like the  are â¦ on you? listen  #retweet #boricua #miamiâ¦</td>\n",
       "      <td>are you  hispanic  amp  feel like the  are     on you  listen   retweet  boricua  miami</td>\n",
       "    </tr>\n",
       "    <tr>\n",
       "      <th>27333</th>\n",
       "      <td>27334</td>\n",
       "      <td>1</td>\n",
       "      <td>damning video: racist hillary says ' i will only talk to white people'  #hillary</td>\n",
       "      <td>damning video  racist hillary says   i will only talk to white people    hillary</td>\n",
       "    </tr>\n",
       "    <tr>\n",
       "      <th>27026</th>\n",
       "      <td>27027</td>\n",
       "      <td>1</td>\n",
       "      <td>@user last  retro #christmasadve for you this year, and whilst i do love a good bit of #tupperwear i do not wantâ¦</td>\n",
       "      <td>user last  retro  christmasadve for you this year  and whilst i do love a good bit of  tupperwear i do not want</td>\n",
       "    </tr>\n",
       "    <tr>\n",
       "      <th>13615</th>\n",
       "      <td>13616</td>\n",
       "      <td>1</td>\n",
       "      <td>@user you should take action against your filthy plantation location manager. what a disgraceful pos!  #boycott</td>\n",
       "      <td>user you should take action against your filthy plantation location manager  what a disgraceful pos    boycott</td>\n",
       "    </tr>\n",
       "    <tr>\n",
       "      <th>30831</th>\n",
       "      <td>30832</td>\n",
       "      <td>1</td>\n",
       "      <td>@user there is only one requirement for the job of the us president: being male #stillwithher #hillaryclinton #neverumpâ¦</td>\n",
       "      <td>user there is only one requirement for the job of the us president  being male  stillwithher  hillaryclinton  neverump</td>\n",
       "    </tr>\n",
       "    <tr>\n",
       "      <th>9079</th>\n",
       "      <td>9080</td>\n",
       "      <td>1</td>\n",
       "      <td>@user this is really telling.   #microaggressions #race #whiteprivilege #antiblackness</td>\n",
       "      <td>user this is really telling     microaggressions  race  whiteprivilege  antiblackness</td>\n",
       "    </tr>\n",
       "  </tbody>\n",
       "</table></div>"
      ],
      "text/plain": [
       "          id label                                              tweet  \\\n",
       "11604  11605     1  #sikh #temple vandalised in in #calgary, #wso ...   \n",
       "6167    6168     1    sea shepherd suppoers are racist!  #seasheph...   \n",
       "21185  21186     1  @user there is no way, that this, this... man ...   \n",
       "15924  15925     1  nothing would be more dangerous than to give #...   \n",
       "19115  19116     1  are you #hispanic &amp; feel like the  are â¦...   \n",
       "27333  27334     1  damning video: racist hillary says ' i will on...   \n",
       "27026  27027     1  @user last  retro #christmasadve for you this ...   \n",
       "13615  13616     1  @user you should take action against your filt...   \n",
       "30831  30832     1  @user there is only one requirement for the jo...   \n",
       "9079    9080     1  @user this is really telling.   #microaggressi...   \n",
       "\n",
       "                                                    text  \n",
       "11604   sikh  temple vandalised in in  calgary   wso ...  \n",
       "6167     sea shepherd suppoers are racist    seasheph...  \n",
       "21185   user there is no way  that this  this    man ...  \n",
       "15924  nothing would be more dangerous than to give  ...  \n",
       "19115  are you  hispanic  amp  feel like the  are    ...  \n",
       "27333  damning video  racist hillary says   i will on...  \n",
       "27026   user last  retro  christmasadve for you this ...  \n",
       "13615   user you should take action against your filt...  \n",
       "30831   user there is only one requirement for the jo...  \n",
       "9079    user this is really telling     microaggressi...  "
      ]
     },
     "execution_count": 104,
     "metadata": {},
     "output_type": "execute_result"
    }
   ],
   "source": [
    "racist_comments.tail(10)"
   ]
  },
  {
   "cell_type": "code",
   "execution_count": null,
   "metadata": {},
   "outputs": [],
   "source": []
  }
 ],
 "metadata": {
  "kernelspec": {
   "display_name": "Python 3",
   "language": "python",
   "name": "python3"
  },
  "language_info": {
   "codemirror_mode": {
    "name": "ipython",
    "version": 3
   },
   "file_extension": ".py",
   "mimetype": "text/x-python",
   "name": "python",
   "nbconvert_exporter": "python",
   "pygments_lexer": "ipython3",
   "version": "3.7.6"
  }
 },
 "nbformat": 4,
 "nbformat_minor": 4
}
